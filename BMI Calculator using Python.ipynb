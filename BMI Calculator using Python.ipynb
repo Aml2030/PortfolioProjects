{
 "cells": [
  {
   "cell_type": "code",
   "execution_count": 2,
   "id": "a9aeb737-0910-4020-8a0b-bbcaa990f026",
   "metadata": {},
   "outputs": [],
   "source": [
    "#BMI = (weight (pounds)*703 )÷ height * height (inches)"
   ]
  },
  {
   "cell_type": "code",
   "execution_count": null,
   "id": "b519a8e7-c0fc-49d1-be93-f97f51041ebe",
   "metadata": {},
   "outputs": [],
   "source": [
    "name = input(\"Please, Enter your name: \")\n",
    "weight = int(input(\"Please, Enter your weight in pounds: \") )\n",
    "height = int(input(\"Please, Enter your height in inches: \") )\n",
    "BMI = (weight * 703 ) / ( height * height )\n",
    "\n",
    "print(BMI)\n",
    "\n",
    "if( BMI < 0 ):\n",
    "    print(\"Only positive values accepted.\")\n",
    "elif ( BMI<=18.5):\n",
    "    print(name + \" ,you are Under Weight.\")\n",
    "elif ( 18.5<BMI<=24.9):\n",
    "    print(name + \" ,you are Normal Weight.\")\n",
    "elif ( 24.9<BMI<=29.9):\n",
    "    print(name + \" ,you are Over Weight.\")\n",
    "elif ( 29.9<BMI<=34.9):\n",
    "    print(name + \" ,you are Obese.\")\n",
    "elif ( 34.9<BMI<=39.9):\n",
    "    print(name + \" ,you are Severely Obese.\")\n",
    "else:\n",
    "    print(name + \" ,you are Morbidly Obese.\")\n",
    "\n"
   ]
  },
  {
   "cell_type": "code",
   "execution_count": null,
   "id": "1cb19ccc-fce1-4d90-9352-94946de19289",
   "metadata": {},
   "outputs": [],
   "source": []
  }
 ],
 "metadata": {
  "kernelspec": {
   "display_name": "Python 3 (ipykernel)",
   "language": "python",
   "name": "python3"
  },
  "language_info": {
   "codemirror_mode": {
    "name": "ipython",
    "version": 3
   },
   "file_extension": ".py",
   "mimetype": "text/x-python",
   "name": "python",
   "nbconvert_exporter": "python",
   "pygments_lexer": "ipython3",
   "version": "3.12.4"
  }
 },
 "nbformat": 4,
 "nbformat_minor": 5
}

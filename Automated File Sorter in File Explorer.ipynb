{
 "cells": [
  {
   "cell_type": "code",
   "execution_count": 16,
   "id": "2191db40-7118-41ee-8d8d-6a84fd0c6d9e",
   "metadata": {},
   "outputs": [],
   "source": [
    "import os\n",
    "import shutil\n",
    "path = r\"D:\\b.python for beginners\\Files\"\n",
    "list_of_files= os.listdir(path)\n",
    "for i in list_of_files: \n",
    "    name, ext = os.path.splitext(i)\n",
    "    if ext == '':\n",
    "        continue\n",
    "    ext = ext[1:]\n",
    "    if os.path.exists(path+'/'+ext):\n",
    "        shutil.move(path+'/'+i, path+'/'+ext)\n",
    "    else: \n",
    "        os.makedirs(path+'/'+ext) \n",
    "        shutil.move(path+'/'+i, path+'/'+ext)"
   ]
  },
  {
   "cell_type": "code",
   "execution_count": null,
   "id": "799b6c11-40e9-47da-acda-eb9b03d1de37",
   "metadata": {},
   "outputs": [],
   "source": []
  }
 ],
 "metadata": {
  "kernelspec": {
   "display_name": "Python 3 (ipykernel)",
   "language": "python",
   "name": "python3"
  },
  "language_info": {
   "codemirror_mode": {
    "name": "ipython",
    "version": 3
   },
   "file_extension": ".py",
   "mimetype": "text/x-python",
   "name": "python",
   "nbconvert_exporter": "python",
   "pygments_lexer": "ipython3",
   "version": "3.12.4"
  }
 },
 "nbformat": 4,
 "nbformat_minor": 5
}
